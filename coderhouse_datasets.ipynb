{
  "nbformat": 4,
  "nbformat_minor": 0,
  "metadata": {
    "colab": {
      "provenance": [],
      "authorship_tag": "ABX9TyOHFeab2GDjdWVgrQcU32nj",
      "include_colab_link": true
    },
    "kernelspec": {
      "name": "python3",
      "display_name": "Python 3"
    },
    "language_info": {
      "name": "python"
    }
  },
  "cells": [
    {
      "cell_type": "markdown",
      "metadata": {
        "id": "view-in-github",
        "colab_type": "text"
      },
      "source": [
        "<a href=\"https://colab.research.google.com/github/alfcastillo90/conexion_datasets/blob/main/coderhouse_datasets.ipynb\" target=\"_parent\"><img src=\"https://colab.research.google.com/assets/colab-badge.svg\" alt=\"Open In Colab\"/></a>"
      ]
    },
    {
      "cell_type": "code",
      "execution_count": 2,
      "metadata": {
        "colab": {
          "base_uri": "https://localhost:8080/"
        },
        "id": "XLVHufBnyqpK",
        "outputId": "34a5741f-a527-4c8d-ac45-99610fc928ba"
      },
      "outputs": [
        {
          "output_type": "stream",
          "name": "stdout",
          "text": [
            "Mounted at /content/gdrive\n"
          ]
        }
      ],
      "source": [
        "from google.colab import drive \n",
        "drive.mount(\"/content/gdrive\")  "
      ]
    },
    {
      "cell_type": "code",
      "source": [
        "!pip install pandas"
      ],
      "metadata": {
        "colab": {
          "base_uri": "https://localhost:8080/"
        },
        "id": "9sK_o0zT08qE",
        "outputId": "59bee3f5-9811-466e-e107-5f3566e484df"
      },
      "execution_count": 3,
      "outputs": [
        {
          "output_type": "stream",
          "name": "stdout",
          "text": [
            "Looking in indexes: https://pypi.org/simple, https://us-python.pkg.dev/colab-wheels/public/simple/\n",
            "Requirement already satisfied: pandas in /usr/local/lib/python3.10/dist-packages (1.5.3)\n",
            "Requirement already satisfied: python-dateutil>=2.8.1 in /usr/local/lib/python3.10/dist-packages (from pandas) (2.8.2)\n",
            "Requirement already satisfied: pytz>=2020.1 in /usr/local/lib/python3.10/dist-packages (from pandas) (2022.7.1)\n",
            "Requirement already satisfied: numpy>=1.21.0 in /usr/local/lib/python3.10/dist-packages (from pandas) (1.22.4)\n",
            "Requirement already satisfied: six>=1.5 in /usr/local/lib/python3.10/dist-packages (from python-dateutil>=2.8.1->pandas) (1.16.0)\n"
          ]
        }
      ]
    },
    {
      "cell_type": "code",
      "source": [
        "import pandas as pd\n",
        "\n",
        "path = \"/content/gdrive/MyDrive/Estudios/coderhouse/data_science/amazon.csv\"\n",
        "amazon = pd.read_csv(path, sep=\",\")\n",
        "amazon.info()"
      ],
      "metadata": {
        "colab": {
          "base_uri": "https://localhost:8080/"
        },
        "id": "lI9eURh609Hd",
        "outputId": "ae7633cf-3cff-4cc0-c4ed-bc2c95c14709"
      },
      "execution_count": 8,
      "outputs": [
        {
          "output_type": "stream",
          "name": "stdout",
          "text": [
            "<class 'pandas.core.frame.DataFrame'>\n",
            "RangeIndex: 1465 entries, 0 to 1464\n",
            "Data columns (total 16 columns):\n",
            " #   Column               Non-Null Count  Dtype \n",
            "---  ------               --------------  ----- \n",
            " 0   product_id           1465 non-null   object\n",
            " 1   product_name         1465 non-null   object\n",
            " 2   category             1465 non-null   object\n",
            " 3   discounted_price     1465 non-null   object\n",
            " 4   actual_price         1465 non-null   object\n",
            " 5   discount_percentage  1465 non-null   object\n",
            " 6   rating               1465 non-null   object\n",
            " 7   rating_count         1463 non-null   object\n",
            " 8   about_product        1465 non-null   object\n",
            " 9   user_id              1465 non-null   object\n",
            " 10  user_name            1465 non-null   object\n",
            " 11  review_id            1465 non-null   object\n",
            " 12  review_title         1465 non-null   object\n",
            " 13  review_content       1465 non-null   object\n",
            " 14  img_link             1465 non-null   object\n",
            " 15  product_link         1465 non-null   object\n",
            "dtypes: object(16)\n",
            "memory usage: 183.2+ KB\n"
          ]
        }
      ]
    },
    {
      "cell_type": "code",
      "source": [
        "# Estadísticas descriptivas de columnas numéricas\n",
        "print(amazon.describe())"
      ],
      "metadata": {
        "colab": {
          "base_uri": "https://localhost:8080/"
        },
        "id": "gebjC2CW2hWS",
        "outputId": "11d3b4ac-9813-42f4-f929-11539d58d3e6"
      },
      "execution_count": 9,
      "outputs": [
        {
          "output_type": "stream",
          "name": "stdout",
          "text": [
            "        product_id                                       product_name  \\\n",
            "count         1465                                               1465   \n",
            "unique        1351                                               1337   \n",
            "top     B07JW9H4J1  Fire-Boltt Ninja Call Pro Plus 1.83\" Smart Wat...   \n",
            "freq             3                                                  5   \n",
            "\n",
            "                                                 category discounted_price  \\\n",
            "count                                                1465             1465   \n",
            "unique                                                211              550   \n",
            "top     Computers&Accessories|Accessories&Peripherals|...             ₹199   \n",
            "freq                                                  233               53   \n",
            "\n",
            "       actual_price discount_percentage rating rating_count  \\\n",
            "count          1465                1465   1465         1463   \n",
            "unique          449                  92     28         1143   \n",
            "top            ₹999                 50%    4.1        9,378   \n",
            "freq            120                  56    244            9   \n",
            "\n",
            "                                            about_product  \\\n",
            "count                                                1465   \n",
            "unique                                               1293   \n",
            "top     [CHARGE & SYNC FUNCTION]- This cable comes wit...   \n",
            "freq                                                    6   \n",
            "\n",
            "                                                  user_id  \\\n",
            "count                                                1465   \n",
            "unique                                               1194   \n",
            "top     AHIKJUDTVJ4T6DV6IUGFYZ5LXMPA,AE55KTFVNXYFD5FPY...   \n",
            "freq                                                   10   \n",
            "\n",
            "                                                user_name  \\\n",
            "count                                                1465   \n",
            "unique                                               1194   \n",
            "top     $@|\\|TO$|-|,Sethu madhav,Akash Thakur,Burger P...   \n",
            "freq                                                   10   \n",
            "\n",
            "                                                review_id  \\\n",
            "count                                                1465   \n",
            "unique                                               1194   \n",
            "top     R3F4T5TRYPTMIG,R3DQIEC603E7AY,R1O4Z15FD40PV5,R...   \n",
            "freq                                                   10   \n",
            "\n",
            "                                             review_title  \\\n",
            "count                                                1465   \n",
            "unique                                               1194   \n",
            "top     Worked on iPhone 7 and didn’t work on XR,Good ...   \n",
            "freq                                                   10   \n",
            "\n",
            "                                           review_content  \\\n",
            "count                                                1465   \n",
            "unique                                               1212   \n",
            "top     I am not big on camera usage, personally. I wa...   \n",
            "freq                                                    8   \n",
            "\n",
            "                                                 img_link  \\\n",
            "count                                                1465   \n",
            "unique                                               1412   \n",
            "top     https://m.media-amazon.com/images/I/413sCRKobN...   \n",
            "freq                                                    3   \n",
            "\n",
            "                                             product_link  \n",
            "count                                                1465  \n",
            "unique                                               1465  \n",
            "top     https://www.amazon.in/Wayona-Braided-WN3LG1-Sy...  \n",
            "freq                                                    1  \n"
          ]
        }
      ]
    },
    {
      "cell_type": "code",
      "source": [
        "# Muestra las primeras 5 filas del DataFrame\n",
        "print(amazon.head())\n"
      ],
      "metadata": {
        "colab": {
          "base_uri": "https://localhost:8080/"
        },
        "id": "E041_Hzm2nCZ",
        "outputId": "8ec8b02d-1ab5-4c52-dd1c-08f201960d90"
      },
      "execution_count": 10,
      "outputs": [
        {
          "output_type": "stream",
          "name": "stdout",
          "text": [
            "   product_id                                       product_name  \\\n",
            "0  B07JW9H4J1  Wayona Nylon Braided USB to Lightning Fast Cha...   \n",
            "1  B098NS6PVG  Ambrane Unbreakable 60W / 3A Fast Charging 1.5...   \n",
            "2  B096MSW6CT  Sounce Fast Phone Charging Cable & Data Sync U...   \n",
            "3  B08HDJ86NZ  boAt Deuce USB 300 2 in 1 Type-C & Micro USB S...   \n",
            "4  B08CF3B7N1  Portronics Konnect L 1.2M Fast Charging 3A 8 P...   \n",
            "\n",
            "                                            category discounted_price  \\\n",
            "0  Computers&Accessories|Accessories&Peripherals|...             ₹399   \n",
            "1  Computers&Accessories|Accessories&Peripherals|...             ₹199   \n",
            "2  Computers&Accessories|Accessories&Peripherals|...             ₹199   \n",
            "3  Computers&Accessories|Accessories&Peripherals|...             ₹329   \n",
            "4  Computers&Accessories|Accessories&Peripherals|...             ₹154   \n",
            "\n",
            "  actual_price discount_percentage rating rating_count  \\\n",
            "0       ₹1,099                 64%    4.2       24,269   \n",
            "1         ₹349                 43%    4.0       43,994   \n",
            "2       ₹1,899                 90%    3.9        7,928   \n",
            "3         ₹699                 53%    4.2       94,363   \n",
            "4         ₹399                 61%    4.2       16,905   \n",
            "\n",
            "                                       about_product  \\\n",
            "0  High Compatibility : Compatible With iPhone 12...   \n",
            "1  Compatible with all Type C enabled devices, be...   \n",
            "2  【 Fast Charger& Data Sync】-With built-in safet...   \n",
            "3  The boAt Deuce USB 300 2 in 1 cable is compati...   \n",
            "4  [CHARGE & SYNC FUNCTION]- This cable comes wit...   \n",
            "\n",
            "                                             user_id  \\\n",
            "0  AG3D6O4STAQKAY2UVGEUV46KN35Q,AHMY5CWJMMK5BJRBB...   \n",
            "1  AECPFYFQVRUWC3KGNLJIOREFP5LQ,AGYYVPDD7YG7FYNBX...   \n",
            "2  AGU3BBQ2V2DDAMOAKGFAWDDQ6QHA,AESFLDV2PT363T2AQ...   \n",
            "3  AEWAZDZZJLQUYVOVGBEUKSLXHQ5A,AG5HTSFRRE6NL3M5S...   \n",
            "4  AE3Q6KSUK5P75D5HFYHCRAOLODSA,AFUGIFH5ZAFXRDSZH...   \n",
            "\n",
            "                                           user_name  \\\n",
            "0  Manav,Adarsh gupta,Sundeep,S.Sayeed Ahmed,jasp...   \n",
            "1  ArdKn,Nirbhay kumar,Sagar Viswanathan,Asp,Plac...   \n",
            "2  Kunal,Himanshu,viswanath,sai niharka,saqib mal...   \n",
            "3  Omkar dhale,JD,HEMALATHA,Ajwadh a.,amar singh ...   \n",
            "4  rahuls6099,Swasat Borah,Ajay Wadke,Pranali,RVK...   \n",
            "\n",
            "                                           review_id  \\\n",
            "0  R3HXWT0LRP0NMF,R2AJM3LFTLZHFO,R6AQJGUP6P86,R1K...   \n",
            "1  RGIQEG07R9HS2,R1SMWZQ86XIN8U,R2J3Y1WL29GWDE,RY...   \n",
            "2  R3J3EQQ9TZI5ZJ,R3E7WBGK7ID0KV,RWU79XKQ6I1QF,R2...   \n",
            "3  R3EEUZKKK9J36I,R3HJVYCLYOY554,REDECAZ7AMPQC,R1...   \n",
            "4  R1BP4L2HH9TFUP,R16PVJEXKV6QZS,R2UPDB81N66T4P,R...   \n",
            "\n",
            "                                        review_title  \\\n",
            "0  Satisfied,Charging is really fast,Value for mo...   \n",
            "1  A Good Braided Cable for Your Type C Device,Go...   \n",
            "2  Good speed for earlier versions,Good Product,W...   \n",
            "3  Good product,Good one,Nice,Really nice product...   \n",
            "4  As good as original,Decent,Good one for second...   \n",
            "\n",
            "                                      review_content  \\\n",
            "0  Looks durable Charging is fine tooNo complains...   \n",
            "1  I ordered this cable to connect my phone to An...   \n",
            "2  Not quite durable and sturdy,https://m.media-a...   \n",
            "3  Good product,long wire,Charges good,Nice,I bou...   \n",
            "4  Bought this instead of original apple, does th...   \n",
            "\n",
            "                                            img_link  \\\n",
            "0  https://m.media-amazon.com/images/W/WEBP_40237...   \n",
            "1  https://m.media-amazon.com/images/W/WEBP_40237...   \n",
            "2  https://m.media-amazon.com/images/W/WEBP_40237...   \n",
            "3  https://m.media-amazon.com/images/I/41V5FtEWPk...   \n",
            "4  https://m.media-amazon.com/images/W/WEBP_40237...   \n",
            "\n",
            "                                        product_link  \n",
            "0  https://www.amazon.in/Wayona-Braided-WN3LG1-Sy...  \n",
            "1  https://www.amazon.in/Ambrane-Unbreakable-Char...  \n",
            "2  https://www.amazon.in/Sounce-iPhone-Charging-C...  \n",
            "3  https://www.amazon.in/Deuce-300-Resistant-Tang...  \n",
            "4  https://www.amazon.in/Portronics-Konnect-POR-1...  \n"
          ]
        }
      ]
    },
    {
      "cell_type": "code",
      "source": [
        "# Muestra las últimas 5 filas del DataFrame\n",
        "print(amazon.tail())"
      ],
      "metadata": {
        "colab": {
          "base_uri": "https://localhost:8080/"
        },
        "id": "2KxjLMbt2wts",
        "outputId": "1802278e-be3f-4c44-e5cc-fdbb6690d6f1"
      },
      "execution_count": 11,
      "outputs": [
        {
          "output_type": "stream",
          "name": "stdout",
          "text": [
            "      product_id                                       product_name  \\\n",
            "1460  B08L7J3T31  Noir Aqua - 5pcs PP Spun Filter + 1 Spanner | ...   \n",
            "1461  B01M6453MB  Prestige Delight PRWO Electric Rice Cooker (1 ...   \n",
            "1462  B009P2LIL4  Bajaj Majesty RX10 2000 Watts Heat Convector R...   \n",
            "1463  B00J5DYCCA  Havells Ventil Air DSP 230mm Exhaust Fan (Pist...   \n",
            "1464  B01486F4G6  Borosil Jumbo 1000-Watt Grill Sandwich Maker (...   \n",
            "\n",
            "                                               category discounted_price  \\\n",
            "1460  Home&Kitchen|Kitchen&HomeAppliances|WaterPurif...             ₹379   \n",
            "1461  Home&Kitchen|Kitchen&HomeAppliances|SmallKitch...           ₹2,280   \n",
            "1462  Home&Kitchen|Heating,Cooling&AirQuality|RoomHe...           ₹2,219   \n",
            "1463  Home&Kitchen|Heating,Cooling&AirQuality|Fans|E...           ₹1,399   \n",
            "1464  Home&Kitchen|Kitchen&HomeAppliances|SmallKitch...           ₹2,863   \n",
            "\n",
            "     actual_price discount_percentage rating rating_count  \\\n",
            "1460         ₹919                 59%      4        1,090   \n",
            "1461       ₹3,045                 25%    4.1        4,118   \n",
            "1462       ₹3,080                 28%    3.6          468   \n",
            "1463       ₹1,890                 26%      4        8,031   \n",
            "1464       ₹3,690                 22%    4.3        6,987   \n",
            "\n",
            "                                          about_product  \\\n",
            "1460  SUPREME QUALITY 90 GRAM 3 LAYER THIK PP SPUN F...   \n",
            "1461                       230 Volts, 400 watts, 1 Year   \n",
            "1462  International design and styling|Two heat sett...   \n",
            "1463  Fan sweep area: 230 MM ; Noise level: (40 - 45...   \n",
            "1464  Brand-Borosil, Specification â€“ 23V ~ 5Hz;1 W...   \n",
            "\n",
            "                                                user_id  \\\n",
            "1460  AHITFY6AHALOFOHOZEOC6XBP4FEA,AFRABBODZJZQB6Z4U...   \n",
            "1461  AFG5FM3NEMOL6BNFRV2NK5FNJCHQ,AGEINTRN6Z563RMLH...   \n",
            "1462  AGVPWCMAHYQWJOQKMUJN4DW3KM5Q,AF4Q3E66MY4SR7YQZ...   \n",
            "1463  AF2JQCLSCY3QJATWUNNHUSVUPNQQ,AFDMLUXC5LS5RXDJS...   \n",
            "1464  AFGW5PT3R6ZAVQR4Y5MWVAKBZAYA,AG7QNJ2SCS5VS5VYY...   \n",
            "\n",
            "                                              user_name  \\\n",
            "1460  Prabha ds,Raghuram bk,Real Deal,Amazon Custome...   \n",
            "1461  Manu Bhai,Naveenpittu,Evatira Sangma,JAGANNADH...   \n",
            "1462  Nehal Desai,Danish Parwez,Amazon Customer,Amaz...   \n",
            "1463  Shubham Dubey,E.GURUBARAN,Mayank S.,eusuf khan...   \n",
            "1464  Rajib,Ajay B,Vikas Kahol,PARDEEP,Anindya Prama...   \n",
            "\n",
            "                                              review_id  \\\n",
            "1460  R3G3XFHPBFF0E8,R3C0BZCD32EIGW,R2EBVBCN9QPD9R,R...   \n",
            "1461  R3DDL2UPKQ2CK9,R2SYYU1OATVIU5,R1VM993161IYRW,R...   \n",
            "1462  R1TLRJVW4STY5I,R2O455KRN493R1,R3Q5MVGBRIAS2G,R...   \n",
            "1463  R39Q2Y79MM9SWK,R3079BG1NIH6MB,R29A31ZELTZNJM,R...   \n",
            "1464  R20RBRZ0WEUJT9,ROKIFK9R2ISSE,R30EEG2FNJSN5I,R2...   \n",
            "\n",
            "                                           review_title  \\\n",
            "1460  Received the product without spanner,Excellent...   \n",
            "1461  ok,everything was good couldn't return bcoz I ...   \n",
            "1462  very good,Work but front melt after 2 month,Go...   \n",
            "1463  Fan Speed is slow,Good quality,Good product,go...   \n",
            "1464  Works perfect,Ok good product,Nice Product. Re...   \n",
            "\n",
            "                                         review_content  \\\n",
            "1460  I received product without spanner,Excellent p...   \n",
            "1461  ok,got everything as mentioned but the measuri...   \n",
            "1462  plastic but cool body ,u have to find sturdy s...   \n",
            "1463  I have installed this in my kitchen working fi...   \n",
            "1464  It does it job perfectly..only issue is temp c...   \n",
            "\n",
            "                                               img_link  \\\n",
            "1460  https://m.media-amazon.com/images/I/41fDdRtjfx...   \n",
            "1461  https://m.media-amazon.com/images/I/41gzDxk4+k...   \n",
            "1462  https://m.media-amazon.com/images/W/WEBP_40237...   \n",
            "1463  https://m.media-amazon.com/images/W/WEBP_40237...   \n",
            "1464  https://m.media-amazon.com/images/W/WEBP_40237...   \n",
            "\n",
            "                                           product_link  \n",
            "1460  https://www.amazon.in/Noir-Aqua-Spanner-Purifi...  \n",
            "1461  https://www.amazon.in/Prestige-Delight-PRWO-1-...  \n",
            "1462  https://www.amazon.in/Bajaj-RX-10-2000-Watt-Co...  \n",
            "1463  https://www.amazon.in/Havells-Ventilair-230mm-...  \n",
            "1464  https://www.amazon.in/Borosil-Jumbo-1000-Watt-...  \n"
          ]
        }
      ]
    },
    {
      "cell_type": "code",
      "source": [
        "# Nombres de las columnas del DataFrame\n",
        "print(\"\\nNombres de las columnas:\")\n",
        "print(amazon.columns)\n",
        "\n",
        "# Tipos de datos de cada columna del DataFrame\n",
        "print(\"\\nTipos de datos de las columnas:\")\n",
        "print(amazon.dtypes)\n",
        "\n",
        "# Verificar celdas con valores nulos\n",
        "print(\"\\nCeldas con valores nulos:\")\n",
        "print(amazon.isnull())\n",
        "\n",
        "# Suma de los valores en cada columna numérica\n",
        "print(\"\\nSuma de los valores en cada columna numérica:\")\n",
        "print(amazon.sum())\n",
        "\n",
        "# Media de los valores en cada columna numérica\n",
        "print(\"\\nMedia de los valores en cada columna numérica:\")\n",
        "print(amazon.mean())\n",
        "\n",
        "# Mediana de los valores en cada columna numérica\n",
        "print(\"\\nMediana de los valores en cada columna numérica:\")\n",
        "print(amazon.median())\n",
        "\n",
        "# Desviación estándar de los valores en cada columna numérica\n",
        "print(\"\\nDesviación estándar de los valores en cada columna numérica:\")\n",
        "print(amazon.std())\n",
        "\n",
        "# Matriz de correlación entre columnas numéricas\n",
        "print(\"\\nMatriz de correlación:\")\n",
        "print(amazon.corr())"
      ],
      "metadata": {
        "colab": {
          "base_uri": "https://localhost:8080/"
        },
        "id": "uy6ak3lo3KVJ",
        "outputId": "cbfe4015-ac30-4724-d4f4-d71b42aa9005"
      },
      "execution_count": 12,
      "outputs": [
        {
          "output_type": "stream",
          "name": "stdout",
          "text": [
            "\n",
            "Nombres de las columnas:\n",
            "Index(['product_id', 'product_name', 'category', 'discounted_price',\n",
            "       'actual_price', 'discount_percentage', 'rating', 'rating_count',\n",
            "       'about_product', 'user_id', 'user_name', 'review_id', 'review_title',\n",
            "       'review_content', 'img_link', 'product_link'],\n",
            "      dtype='object')\n",
            "\n",
            "Tipos de datos de las columnas:\n",
            "product_id             object\n",
            "product_name           object\n",
            "category               object\n",
            "discounted_price       object\n",
            "actual_price           object\n",
            "discount_percentage    object\n",
            "rating                 object\n",
            "rating_count           object\n",
            "about_product          object\n",
            "user_id                object\n",
            "user_name              object\n",
            "review_id              object\n",
            "review_title           object\n",
            "review_content         object\n",
            "img_link               object\n",
            "product_link           object\n",
            "dtype: object\n",
            "\n",
            "Celdas con valores nulos:\n",
            "      product_id  product_name  category  discounted_price  actual_price  \\\n",
            "0          False         False     False             False         False   \n",
            "1          False         False     False             False         False   \n",
            "2          False         False     False             False         False   \n",
            "3          False         False     False             False         False   \n",
            "4          False         False     False             False         False   \n",
            "...          ...           ...       ...               ...           ...   \n",
            "1460       False         False     False             False         False   \n",
            "1461       False         False     False             False         False   \n",
            "1462       False         False     False             False         False   \n",
            "1463       False         False     False             False         False   \n",
            "1464       False         False     False             False         False   \n",
            "\n",
            "      discount_percentage  rating  rating_count  about_product  user_id  \\\n",
            "0                   False   False         False          False    False   \n",
            "1                   False   False         False          False    False   \n",
            "2                   False   False         False          False    False   \n",
            "3                   False   False         False          False    False   \n",
            "4                   False   False         False          False    False   \n",
            "...                   ...     ...           ...            ...      ...   \n",
            "1460                False   False         False          False    False   \n",
            "1461                False   False         False          False    False   \n",
            "1462                False   False         False          False    False   \n",
            "1463                False   False         False          False    False   \n",
            "1464                False   False         False          False    False   \n",
            "\n",
            "      user_name  review_id  review_title  review_content  img_link  \\\n",
            "0         False      False         False           False     False   \n",
            "1         False      False         False           False     False   \n",
            "2         False      False         False           False     False   \n",
            "3         False      False         False           False     False   \n",
            "4         False      False         False           False     False   \n",
            "...         ...        ...           ...             ...       ...   \n",
            "1460      False      False         False           False     False   \n",
            "1461      False      False         False           False     False   \n",
            "1462      False      False         False           False     False   \n",
            "1463      False      False         False           False     False   \n",
            "1464      False      False         False           False     False   \n",
            "\n",
            "      product_link  \n",
            "0            False  \n",
            "1            False  \n",
            "2            False  \n",
            "3            False  \n",
            "4            False  \n",
            "...            ...  \n",
            "1460         False  \n",
            "1461         False  \n",
            "1462         False  \n",
            "1463         False  \n",
            "1464         False  \n",
            "\n",
            "[1465 rows x 16 columns]\n",
            "\n",
            "Suma de los valores en cada columna numérica:\n"
          ]
        },
        {
          "output_type": "stream",
          "name": "stderr",
          "text": [
            "<ipython-input-12-0e2ec5e0f9a9>:15: FutureWarning: The default value of numeric_only in DataFrame.sum is deprecated. In a future version, it will default to False. In addition, specifying 'numeric_only=None' is deprecated. Select only valid columns or specify the value of numeric_only to silence this warning.\n",
            "  print(amazon.sum())\n"
          ]
        },
        {
          "output_type": "stream",
          "name": "stdout",
          "text": [
            "product_id             B07JW9H4J1B098NS6PVGB096MSW6CTB08HDJ86NZB08CF3...\n",
            "product_name           Wayona Nylon Braided USB to Lightning Fast Cha...\n",
            "category               Computers&Accessories|Accessories&Peripherals|...\n",
            "discounted_price       ₹399₹199₹199₹329₹154₹149₹176.63₹229₹499₹199₹15...\n",
            "actual_price           ₹1,099₹349₹1,899₹699₹399₹1,000₹499₹299₹999₹299...\n",
            "discount_percentage    64%43%90%53%61%85%65%23%50%33%55%63%69%61%60%1...\n",
            "rating                 4.24.03.94.24.23.94.14.34.24.04.34.24.44.24.14...\n",
            "about_product          High Compatibility : Compatible With iPhone 12...\n",
            "user_id                AG3D6O4STAQKAY2UVGEUV46KN35Q,AHMY5CWJMMK5BJRBB...\n",
            "user_name              Manav,Adarsh gupta,Sundeep,S.Sayeed Ahmed,jasp...\n",
            "review_id              R3HXWT0LRP0NMF,R2AJM3LFTLZHFO,R6AQJGUP6P86,R1K...\n",
            "review_title           Satisfied,Charging is really fast,Value for mo...\n",
            "review_content         Looks durable Charging is fine tooNo complains...\n",
            "img_link               https://m.media-amazon.com/images/W/WEBP_40237...\n",
            "product_link           https://www.amazon.in/Wayona-Braided-WN3LG1-Sy...\n",
            "dtype: object\n",
            "\n",
            "Media de los valores en cada columna numérica:\n",
            "Series([], dtype: float64)\n",
            "\n",
            "Mediana de los valores en cada columna numérica:\n",
            "Series([], dtype: float64)\n",
            "\n",
            "Desviación estándar de los valores en cada columna numérica:\n",
            "Series([], dtype: float64)\n",
            "\n",
            "Matriz de correlación:\n",
            "Empty DataFrame\n",
            "Columns: []\n",
            "Index: []\n"
          ]
        },
        {
          "output_type": "stream",
          "name": "stderr",
          "text": [
            "<ipython-input-12-0e2ec5e0f9a9>:19: FutureWarning: The default value of numeric_only in DataFrame.mean is deprecated. In a future version, it will default to False. In addition, specifying 'numeric_only=None' is deprecated. Select only valid columns or specify the value of numeric_only to silence this warning.\n",
            "  print(amazon.mean())\n",
            "<ipython-input-12-0e2ec5e0f9a9>:23: FutureWarning: The default value of numeric_only in DataFrame.median is deprecated. In a future version, it will default to False. In addition, specifying 'numeric_only=None' is deprecated. Select only valid columns or specify the value of numeric_only to silence this warning.\n",
            "  print(amazon.median())\n",
            "<ipython-input-12-0e2ec5e0f9a9>:27: FutureWarning: The default value of numeric_only in DataFrame.std is deprecated. In a future version, it will default to False. In addition, specifying 'numeric_only=None' is deprecated. Select only valid columns or specify the value of numeric_only to silence this warning.\n",
            "  print(amazon.std())\n",
            "<ipython-input-12-0e2ec5e0f9a9>:31: FutureWarning: The default value of numeric_only in DataFrame.corr is deprecated. In a future version, it will default to False. Select only valid columns or specify the value of numeric_only to silence this warning.\n",
            "  print(amazon.corr())\n"
          ]
        }
      ]
    }
  ]
}